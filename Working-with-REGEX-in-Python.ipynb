{
 "cells": [
  {
   "cell_type": "markdown",
   "metadata": {},
   "source": [
    "# ReGex"
   ]
  },
  {
   "cell_type": "raw",
   "metadata": {},
   "source": [
    "Regex have 4 main functions:\n",
    "    1. Findall\n",
    "    2. Search\n",
    "    3. Split\n",
    "    4. Sub"
   ]
  },
  {
   "cell_type": "raw",
   "metadata": {},
   "source": [
    "findall : It returns a list of all the matches found\n",
    "Search : It returns the match object. Match object tells us about the S\n",
    "        pan (from, to+1) and match string (part of string which matches)\n",
    "Split : It Splits the parent string and returns the list by splitting the string in parts by 'split character'\n",
    "Sub : Substitutes the part of string (charcter) by text specified"
   ]
  },
  {
   "cell_type": "raw",
   "metadata": {},
   "source": [
    "The most important thing in reges is creating it.\n",
    "Creating the right regex perform the correct operation.\n",
    "Regex are created using METACHARACTERS."
   ]
  },
  {
   "cell_type": "markdown",
   "metadata": {},
   "source": [
    "### Metacharacters"
   ]
  },
  {
   "cell_type": "raw",
   "metadata": {},
   "source": [
    "METACHARACTERS are the characters with special meaning.\n",
    "Some expamples of etacharacters are:\n",
    "    \n",
    "    1. [] : Set of characters\n",
    "    2. \\ : Special character sequence\n",
    "    3. . : Characters except new line\n",
    "    4. ^ : Start character\n",
    "    5. $ : End charcter\n",
    "    6. * : zero or more occurances\n",
    "    7. + : Atleast one occurance\n",
    "    8. { } : Exctly mentioned number of occurance\n",
    "    9. | : OR"
   ]
  },
  {
   "cell_type": "code",
   "execution_count": 1,
   "metadata": {},
   "outputs": [],
   "source": [
    "#importing the re library\n",
    "\n",
    "import re"
   ]
  },
  {
   "cell_type": "code",
   "execution_count": 2,
   "metadata": {},
   "outputs": [
    {
     "name": "stdout",
     "output_type": "stream",
     "text": [
      "['1', '6', '0', '0']\n",
      "['P', 'A', 'W', 'D', 'C']\n",
      "['e', 'n', 'n', 's', 'y', 'l', 'v', 'a', 'n', 'i', 'a', 'v', 'e', 'n', 'u', 'e', 'a', 's', 'h', 'i', 'n', 'g', 't', 'o', 'n']\n"
     ]
    }
   ],
   "source": [
    "txt = \"1600 Pennsylvania Avenue, Washington DC\"\n",
    "\n",
    "x = re.findall(\"[0-9]\", txt)\n",
    "y = re.findall(\"[A-Z]\", txt)\n",
    "z = re.findall(\"[a-z]\", txt)\n",
    "print(x)\n",
    "print(y)\n",
    "print(z)\n"
   ]
  },
  {
   "cell_type": "code",
   "execution_count": 3,
   "metadata": {},
   "outputs": [
    {
     "name": "stdout",
     "output_type": "stream",
     "text": [
      "['1', '2', '3', '2', '3']\n"
     ]
    }
   ],
   "source": [
    "string = '''Some points to learn are: \n",
    "    1. Difference between python 2 and 3. \n",
    "    2. Numpy anf Pandas.\n",
    "    3. Last is data visualisation liraries'''\n",
    "\n",
    "\n",
    "# \\d is for digits\n",
    "\n",
    "x = re.findall(\"\\d\", string)\n",
    "\n",
    "print(x)\n"
   ]
  },
  {
   "cell_type": "code",
   "execution_count": 4,
   "metadata": {},
   "outputs": [
    {
     "name": "stdout",
     "output_type": "stream",
     "text": [
      "['Mam', 'Man', 'Maa', 'Hat']\n"
     ]
    }
   ],
   "source": [
    "txt = \"Mam, Man, Maad, Mood, Moon, Hat\"\n",
    "x = re.findall(\".a.\", txt)\n",
    "print(x)"
   ]
  },
  {
   "cell_type": "code",
   "execution_count": 5,
   "metadata": {},
   "outputs": [
    {
     "name": "stdout",
     "output_type": "stream",
     "text": [
      "['M']\n",
      "yes\n"
     ]
    }
   ],
   "source": [
    "txt = \"Mam, Man, Maad, Mood, Moon, Hat\"\n",
    "x = re.findall(\"^M\", txt)\n",
    "print(x)\n",
    "\n",
    "# it only returns the macth if it starts with specified characters.\n",
    "# Thus,to  use it:\n",
    "\n",
    "txt = \"Mam, Man, Maad, Mood, Moon, Hat\"\n",
    "x = re.findall(\"^M\", txt)\n",
    "\\\n",
    "if(x):\n",
    "    print(\"yes\")\n",
    "else:\n",
    "    print(\"no\")\n",
    "\n",
    "# it only returns the macth if it starts with specified characters.\n"
   ]
  },
  {
   "cell_type": "code",
   "execution_count": 6,
   "metadata": {},
   "outputs": [
    {
     "name": "stdout",
     "output_type": "stream",
     "text": [
      "['Hat']\n",
      "yes\n"
     ]
    }
   ],
   "source": [
    "txt = \"Mam, Man, Maad, Mood, Moon, Hat\"\n",
    "x = re.findall(\"Hat$\", txt)\n",
    "print(x)\n",
    "\n",
    "if(x):\n",
    "    print(\"yes\")\n",
    "else:\n",
    "    print(\"no\")"
   ]
  },
  {
   "cell_type": "code",
   "execution_count": 7,
   "metadata": {},
   "outputs": [
    {
     "name": "stdout",
     "output_type": "stream",
     "text": [
      "['Moo', 'Moo']\n"
     ]
    }
   ],
   "source": [
    "txt = \"Mam, Man, Maad, Moo, Moon, Hat\"\n",
    "x = re.findall(\"Moo*\", txt)\n",
    "print(x)\n",
    "\n",
    "#Check if there are matches for M followed by 0 or 1 characters"
   ]
  },
  {
   "cell_type": "code",
   "execution_count": 8,
   "metadata": {},
   "outputs": [
    {
     "name": "stdout",
     "output_type": "stream",
     "text": [
      "['Moo', 'Moo']\n"
     ]
    }
   ],
   "source": [
    "txt = \"Mam, Man, Maad, Mood, Moon, Hat\"\n",
    "x = re.findall(\"Moo+\", txt)\n",
    "print(x)\n",
    "\n",
    "#Check if there are matches for Moo followed by 1 or more characters"
   ]
  },
  {
   "cell_type": "code",
   "execution_count": 10,
   "metadata": {},
   "outputs": [
    {
     "data": {
      "text/plain": [
       "['910000000000']"
      ]
     },
     "execution_count": 10,
     "metadata": {},
     "output_type": "execute_result"
    }
   ],
   "source": [
    "phone = \"My India phone no. is +910000000000 and alternate number is +910000000001\"\n",
    "x=re.findall(\"910{10}\", phone)\n",
    "x\n",
    "\n",
    "#Search for exactly 10 occurances of 0"
   ]
  },
  {
   "cell_type": "code",
   "execution_count": 15,
   "metadata": {},
   "outputs": [
    {
     "name": "stdout",
     "output_type": "stream",
     "text": [
      "['Vishal', 'Harshit']\n",
      "['Varsha']\n"
     ]
    }
   ],
   "source": [
    "friends1 = \"Vishal and Harshit are my friends\"\n",
    "friends2 = \"Varsha and Sangini are my friends\"\n",
    "x = re.findall(\"Harshit|Vishal\", friends1)\n",
    "print(x)\n",
    "y = re.findall(\"Varsha|Vishal\", friends2)\n",
    "print(y)\n",
    "\n",
    "# Searches for (a | b) any one of a or b. i.e either a or b is present"
   ]
  },
  {
   "cell_type": "raw",
   "metadata": {},
   "source": []
  },
  {
   "cell_type": "markdown",
   "metadata": {},
   "source": [
    "### Special Sequences"
   ]
  },
  {
   "cell_type": "markdown",
   "metadata": {},
   "source": [
    "In regex, apart from metacaracters, we also have set of special combination of characters which have special meaning."
   ]
  },
  {
   "cell_type": "raw",
   "metadata": {},
   "source": [
    "\\A checks for specied characters at the beginning of String\n",
    "\\b checks for specied characters at the beginning or end of word\n",
    "\\B characters are present but not at beginning\n",
    "\\Z matches for character only at end\n",
    "\\d searches for digits\n",
    "\\D searches for NO DIGIT\n",
    "\\s searches for whitespace characters (space, tabs, newlines)\n",
    "\\S searches for NO whitespace characters\n",
    "\\w searches for Word characters : [A-Z] [a-z] [0-9] and _\n",
    "\\W searches for NO WOrD CHARACTERS"
   ]
  },
  {
   "cell_type": "code",
   "execution_count": 20,
   "metadata": {},
   "outputs": [
    {
     "data": {
      "text/plain": [
       "['Names']"
      ]
     },
     "execution_count": 20,
     "metadata": {},
     "output_type": "execute_result"
    }
   ],
   "source": [
    "import re\n",
    "\n",
    "names = \"Names are urvi and vishal\"\n",
    "\n",
    "x = re.findall(\"\\ANames\", names)\n",
    "x"
   ]
  },
  {
   "cell_type": "code",
   "execution_count": 42,
   "metadata": {},
   "outputs": [
    {
     "name": "stdout",
     "output_type": "stream",
     "text": [
      "Names are ur0 and 0shal\n"
     ]
    }
   ],
   "source": [
    "import re\n",
    "\n",
    "names = \"Names are urvi and vishal\"\n",
    "\n",
    "x = re.sub((r\"\\bvi|vi\\b\"), \"0\" ,names, 2) # 2 is number of occurences, it is optional\n",
    "\n",
    "# r\"\\bvi|vi\\b\" this checks if \"vi\" is in start or end\n",
    "\n",
    "print(x)"
   ]
  },
  {
   "cell_type": "code",
   "execution_count": 23,
   "metadata": {},
   "outputs": [
    {
     "data": {
      "text/plain": [
       "['vi']"
      ]
     },
     "execution_count": 23,
     "metadata": {},
     "output_type": "execute_result"
    }
   ],
   "source": [
    "import re\n",
    "\n",
    "names = \"Names are urvi and vishal\"\n",
    "\n",
    "x = re.findall(r\"\\Bvi\", names)\n",
    "x"
   ]
  },
  {
   "cell_type": "code",
   "execution_count": 43,
   "metadata": {},
   "outputs": [
    {
     "name": "stdout",
     "output_type": "stream",
     "text": [
      "<_sre.SRE_Match object; span=(0, 1), match='2'>\n"
     ]
    }
   ],
   "source": [
    "address = \"232 AB Road, India\"\n",
    "x = re.match('\\d', address)\n",
    "print(x)"
   ]
  },
  {
   "cell_type": "code",
   "execution_count": 50,
   "metadata": {},
   "outputs": [
    {
     "name": "stdout",
     "output_type": "stream",
     "text": [
      "<_sre.SRE_Match object; span=(0, 1), match='+'>\n"
     ]
    }
   ],
   "source": [
    "phone = \"+9122212112\"\n",
    "x = re.match('\\D', phone)\n",
    "print(x)"
   ]
  },
  {
   "cell_type": "code",
   "execution_count": 51,
   "metadata": {},
   "outputs": [
    {
     "name": "stdout",
     "output_type": "stream",
     "text": [
      "09122212112\n"
     ]
    }
   ],
   "source": [
    "phone = \"+9122212112\"\n",
    "x = re.sub('\\D', \"0\", phone)\n",
    "print(x)"
   ]
  },
  {
   "cell_type": "code",
   "execution_count": 53,
   "metadata": {},
   "outputs": [
    {
     "data": {
      "text/plain": [
       "['This', 'string', 'has', 'spaces']"
      ]
     },
     "execution_count": 53,
     "metadata": {},
     "output_type": "execute_result"
    }
   ],
   "source": [
    "string = \"This string has spaces\"\n",
    "string_list = re.split(\"\\s\", string )\n",
    "string_list"
   ]
  },
  {
   "cell_type": "code",
   "execution_count": 55,
   "metadata": {},
   "outputs": [
    {
     "data": {
      "text/plain": [
       "'ThisStringHasSpaces'"
      ]
     },
     "execution_count": 55,
     "metadata": {},
     "output_type": "execute_result"
    }
   ],
   "source": [
    "string = \"This String Has Spaces\"\n",
    "string1 = re.sub(\"\\s\",\"\",string )\n",
    "string1"
   ]
  },
  {
   "cell_type": "code",
   "execution_count": 57,
   "metadata": {},
   "outputs": [
    {
     "data": {
      "text/plain": [
       "'*****://******.***/********'"
      ]
     },
     "execution_count": 57,
     "metadata": {},
     "output_type": "execute_result"
    }
   ],
   "source": [
    "github = \"https://github.com/urvi3012\"\n",
    "g = re.sub(\"\\w\", \"*\",  github)\n",
    "g"
   ]
  },
  {
   "cell_type": "code",
   "execution_count": 58,
   "metadata": {},
   "outputs": [
    {
     "data": {
      "text/plain": [
       "'https***github*com*urvi3012'"
      ]
     },
     "execution_count": 58,
     "metadata": {},
     "output_type": "execute_result"
    }
   ],
   "source": [
    "github = \"https://github.com/urvi3012\"\n",
    "g = re.sub(\"\\W\", \"*\",  github)\n",
    "g"
   ]
  },
  {
   "cell_type": "markdown",
   "metadata": {},
   "source": [
    "### Making sets in regex "
   ]
  },
  {
   "cell_type": "markdown",
   "metadata": {},
   "source": [
    "while working on regex, there may be some situation, wehre we need to match for set of characters.\n",
    "like from [a-p] or [0-5] or for [ord] . For this, we make a set of characters to make a regex expression"
   ]
  },
  {
   "cell_type": "raw",
   "metadata": {},
   "source": [
    "[and] search for \"a\" or \"n\" or \"d\" in string. (Any of the character specified in regex expression)\n",
    "[a-z] search for ranage from a to z\n",
    "[0-5] searches from 0 to 5 for range\n",
    "\n",
    "We can also use it in combination like:\n",
    "\n",
    "[0-9][0-5] : it searches for number with first digit between 0 to 9 and second between 0 to 5; \n",
    "                i.e a nuber between 0 to 95\n",
    "or:\n",
    "[a-zA-Z] for any alphabet, lower or upper case.\n",
    "\n"
   ]
  },
  {
   "cell_type": "code",
   "execution_count": 62,
   "metadata": {},
   "outputs": [
    {
     "data": {
      "text/plain": [
       "['e', 'a', 'o', 'o', 'e']"
      ]
     },
     "execution_count": 62,
     "metadata": {},
     "output_type": "execute_result"
    }
   ],
   "source": [
    "s = \"Search for vowels\"\n",
    "s = re.findall(\"[aeiou]\", s)\n",
    "s"
   ]
  },
  {
   "cell_type": "code",
   "execution_count": 63,
   "metadata": {},
   "outputs": [
    {
     "data": {
      "text/plain": [
       "['a',\n",
       " 'k',\n",
       " 'e',\n",
       " 'r',\n",
       " 's',\n",
       " 't',\n",
       " 'r',\n",
       " 'e',\n",
       " 'e',\n",
       " 't',\n",
       " 'l',\n",
       " 'o',\n",
       " 'c',\n",
       " 'k',\n",
       " 'o',\n",
       " 'n',\n",
       " 'd',\n",
       " 'o',\n",
       " 'n']"
      ]
     },
     "execution_count": 63,
     "metadata": {},
     "output_type": "execute_result"
    }
   ],
   "source": [
    "s = \"123, Bakers Street, Block 1, London\"\n",
    "s = re.findall(\"[a-z]\", s)\n",
    "s"
   ]
  },
  {
   "cell_type": "code",
   "execution_count": 64,
   "metadata": {},
   "outputs": [
    {
     "data": {
      "text/plain": [
       "['1', '3', '1']"
      ]
     },
     "execution_count": 64,
     "metadata": {},
     "output_type": "execute_result"
    }
   ],
   "source": [
    "s = \"123, Bakers Street, Block 1, London\"\n",
    "s = re.findall(\"[13]\", s)\n",
    "s"
   ]
  },
  {
   "cell_type": "code",
   "execution_count": 66,
   "metadata": {},
   "outputs": [
    {
     "data": {
      "text/plain": [
       "['1', '2', '3', '1']"
      ]
     },
     "execution_count": 66,
     "metadata": {},
     "output_type": "execute_result"
    }
   ],
   "source": [
    "s = \"123, Bakers Street, Block 1, London\"\n",
    "s = re.findall(\"[0-9]\", s)\n",
    "s"
   ]
  },
  {
   "cell_type": "code",
   "execution_count": 67,
   "metadata": {},
   "outputs": [
    {
     "data": {
      "text/plain": [
       "['123']"
      ]
     },
     "execution_count": 67,
     "metadata": {},
     "output_type": "execute_result"
    }
   ],
   "source": [
    "s = \"123, Bakers Street, Block 1, London\"\n",
    "s = re.findall(\"[0-2][0-3][0-5]\", s)\n",
    "s"
   ]
  },
  {
   "cell_type": "code",
   "execution_count": 68,
   "metadata": {},
   "outputs": [
    {
     "data": {
      "text/plain": [
       "['B',\n",
       " 'a',\n",
       " 'k',\n",
       " 'e',\n",
       " 'r',\n",
       " 's',\n",
       " 'S',\n",
       " 't',\n",
       " 'r',\n",
       " 'e',\n",
       " 'e',\n",
       " 't',\n",
       " 'B',\n",
       " 'l',\n",
       " 'o',\n",
       " 'c',\n",
       " 'k',\n",
       " 'L',\n",
       " 'o',\n",
       " 'n',\n",
       " 'd',\n",
       " 'o',\n",
       " 'n']"
      ]
     },
     "execution_count": 68,
     "metadata": {},
     "output_type": "execute_result"
    }
   ],
   "source": [
    "s = \"123, Bakers Street, Block 1, London\"\n",
    "s = re.findall(\"[a-zA-Z]\", s)\n",
    "s"
   ]
  },
  {
   "cell_type": "code",
   "execution_count": 69,
   "metadata": {},
   "outputs": [
    {
     "data": {
      "text/plain": [
       "['B', 'S', 'B', 'L']"
      ]
     },
     "execution_count": 69,
     "metadata": {},
     "output_type": "execute_result"
    }
   ],
   "source": [
    "s = \"123, Bakers Street, Block 1, London\"\n",
    "s = re.findall(\"[A-Z]\", s)\n",
    "s"
   ]
  },
  {
   "cell_type": "code",
   "execution_count": null,
   "metadata": {},
   "outputs": [],
   "source": []
  },
  {
   "cell_type": "markdown",
   "metadata": {},
   "source": [
    "## practicing REGEX"
   ]
  },
  {
   "cell_type": "markdown",
   "metadata": {},
   "source": [
    "https://regexr.com/\n",
    "\n",
    "This is the best site, where you can check for your regular expressions, even with sample string"
   ]
  },
  {
   "cell_type": "raw",
   "metadata": {},
   "source": [
    "I request you to please practive for real world problems and share with me the regex for :\n",
    "    \n",
    "    mail\n",
    "    phone numbers\n",
    "    proper nouns\n",
    "    date\n",
    "    "
   ]
  },
  {
   "cell_type": "raw",
   "metadata": {},
   "source": []
  }
 ],
 "metadata": {
  "kernelspec": {
   "display_name": "Python 3",
   "language": "python",
   "name": "python3"
  },
  "language_info": {
   "codemirror_mode": {
    "name": "ipython",
    "version": 3
   },
   "file_extension": ".py",
   "mimetype": "text/x-python",
   "name": "python",
   "nbconvert_exporter": "python",
   "pygments_lexer": "ipython3",
   "version": "3.6.9"
  }
 },
 "nbformat": 4,
 "nbformat_minor": 4
}
